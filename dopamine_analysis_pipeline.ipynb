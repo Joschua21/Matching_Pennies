{
 "cells": [
  {
   "metadata": {},
   "cell_type": "code",
   "source": "from photometry_analysis import *",
   "id": "f292851cec8c0412",
   "outputs": [],
   "execution_count": null
  },
  {
   "metadata": {},
   "cell_type": "code",
   "source": [
    "# Analyze a specific subject and session\n",
    "session_result = analyze_specific_session(\"JOA-M-0026\", \"20250203\", show_heatmap=True, win_loss=True)"
   ],
   "id": "b02eba708a8b17d1",
   "outputs": [],
   "execution_count": null
  },
  {
   "metadata": {},
   "cell_type": "code",
   "source": [
    "# Analyze all sessions for a specific subject and create pooled visualization\n",
    "subject_pooled_result = pooled_results(\"JOA-M-0022\", win_loss=True)"
   ],
   "id": "f1407b72d5fa2393",
   "outputs": [],
   "execution_count": null
  },
  {
   "metadata": {},
   "cell_type": "code",
   "source": [
    "# Process all subjects and sessions\n",
    "results, subject_list = all_results(win_loss=True)"
   ],
   "id": "7d28e8ba1b6b5dbe",
   "outputs": [],
   "execution_count": null
  },
  {
   "metadata": {},
   "cell_type": "code",
   "source": "select_and_visualize(show_heatmap=True, win_loss=True)",
   "id": "22840e741d77dcb4",
   "outputs": [],
   "execution_count": null
  }
 ],
 "metadata": {
  "kernelspec": {
   "display_name": "Python 3",
   "language": "python",
   "name": "python3"
  },
  "language_info": {
   "codemirror_mode": {
    "name": "ipython",
    "version": 2
   },
   "file_extension": ".py",
   "mimetype": "text/x-python",
   "name": "python",
   "nbconvert_exporter": "python",
   "pygments_lexer": "ipython2",
   "version": "2.7.6"
  }
 },
 "nbformat": 4,
 "nbformat_minor": 5
}
