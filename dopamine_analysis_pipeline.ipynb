{
 "cells": [
  {
   "metadata": {},
   "cell_type": "markdown",
   "source": [
    "## Code for analyzing photometry data from NE and DA animals. \n",
    "Uses .pkl data from photometry and behavioral data from .parquet file. "
   ],
   "id": "86d2452c4a63fbb1"
  },
  {
   "metadata": {},
   "cell_type": "markdown",
   "source": "Load the functions from photometry_analysis.py file. Creates full dataframe which can be used in downstream functions. Use clear_memory to clear Session_cache",
   "id": "c26897cb31f3f189"
  },
  {
   "metadata": {
    "ExecuteTime": {
     "end_time": "2025-03-18T13:45:20.162416Z",
     "start_time": "2025-03-18T13:45:18.099806Z"
    }
   },
   "cell_type": "code",
   "source": [
    "%load_ext autoreload\n",
    "%autoreload 2\n",
    "from photometry_analysis import *\n",
    "full_df = pd.read_parquet(PARQUET_PATH, engine=\"pyarrow\")\n",
    "full_df['date'] = full_df['date'].astype(str)"
   ],
   "id": "f292851cec8c0412",
   "outputs": [
    {
     "name": "stdout",
     "output_type": "stream",
     "text": [
      "The autoreload extension is already loaded. To reload it, use:\n",
      "  %reload_ext autoreload\n"
     ]
    }
   ],
   "execution_count": 42
  },
  {
   "metadata": {},
   "cell_type": "code",
   "source": "clear_memory()",
   "id": "a2d24458f7b33244",
   "outputs": [],
   "execution_count": null
  },
  {
   "metadata": {},
   "cell_type": "markdown",
   "source": "Analyse photometry signal for a specified subjid (\"JOA-M-0022\") and sessid (\"20250203\"). Option to show heatmap of all trials and to split by win/loss",
   "id": "fd3f09bf0f8b4190"
  },
  {
   "metadata": {},
   "cell_type": "code",
   "source": [
    "# Analyze a specific subject and session\n",
    "session_result = analyze_specific_session(\"JOA-M-0022\", \"20250212\", show_heatmap=False, win_loss=False)"
   ],
   "id": "b02eba708a8b17d1",
   "outputs": [],
   "execution_count": null
  },
  {
   "metadata": {},
   "cell_type": "markdown",
   "source": "Similar to analyze_specific_session, but pooled visualization for all sessions of an animal. Use subjid and option for win/loss split. ",
   "id": "180948c8a756bc86"
  },
  {
   "metadata": {},
   "cell_type": "code",
   "source": [
    "# Analyze all sessions for a specific subject and create pooled visualization\n",
    "subject_pooled_result = pooled_results(\"JOA-M-0020\", win_loss=True)\n",
    "#22, 23, 24, 25, 26; 20"
   ],
   "id": "f1407b72d5fa2393",
   "outputs": [],
   "execution_count": null
  },
  {
   "metadata": {},
   "cell_type": "code",
   "source": "analyze_session_average_heatmap(\"JOA-M-0022\", comp_conf=False)",
   "id": "3a1f8a3bfc3a7e43",
   "outputs": [],
   "execution_count": null
  },
  {
   "metadata": {},
   "cell_type": "markdown",
   "source": "Run to analyze all subjects and their respective sessions. Creates plots for individual sessions and pooled results for all subjects. ",
   "id": "f70d8749f097396d"
  },
  {
   "metadata": {},
   "cell_type": "code",
   "source": [
    "# Process all subjects and sessions\n",
    "results, subject_list = all_results(win_loss=True)"
   ],
   "id": "7d28e8ba1b6b5dbe",
   "outputs": [],
   "execution_count": null
  },
  {
   "metadata": {},
   "cell_type": "markdown",
   "source": "Tool to select any subject and an individual session or pooled results. Option for win/loss split and heatmap (individual sessions only)",
   "id": "16643f96f8147a52"
  },
  {
   "metadata": {},
   "cell_type": "code",
   "source": "select_and_visualize(show_heatmap=True, win_loss=True)",
   "id": "22840e741d77dcb4",
   "outputs": [],
   "execution_count": null
  },
  {
   "metadata": {},
   "cell_type": "markdown",
   "source": "Calculates smoothed reward rate using moving window for each session for the selected animal. Then, all trials are divided into quartiles based on their smoothed reward rate, and average photometry signal of each quartile is plotted. Option for win/loss split",
   "id": "9324f14a90b77645"
  },
  {
   "metadata": {},
   "cell_type": "code",
   "source": [
    "analyze_reward_rate_quartiles(\"JOA-M-0020\", win_loss=True)\n",
    "#change window size to 20, then chuck 10 trials "
   ],
   "id": "fe807523f66e33e7",
   "outputs": [],
   "execution_count": null
  },
  {
   "metadata": {},
   "cell_type": "markdown",
   "source": "Similar to reward_rate_quartiles, but smoothed computer confidence is calculated for each session/trial. ",
   "id": "add260bb9f225f54"
  },
  {
   "metadata": {},
   "cell_type": "code",
   "source": "analyze_comp_confidence_quartiles(\"JOA-M-0020\", win_loss=False)",
   "id": "3c8a33e48d1b950a",
   "outputs": [],
   "execution_count": null
  },
  {
   "metadata": {},
   "cell_type": "markdown",
   "source": "Calculates the absolute difference between win and loss signal for each session and plots it with an ascending blue gradient. Sorted either by date or average computer confidence of the session. Option to turn of SEM for easier visualization. ",
   "id": "a0c0a253e6e2c13a"
  },
  {
   "metadata": {},
   "cell_type": "code",
   "source": [
    "analyze_session_win_loss_difference_gap(\"JOA-M-0020\", comp_conf=False, sem=False, df=full_df) \n",
    "#Visualize the difference between the win and loss signal at each point. Option to have it sorted by day or by average computer confidence of each session. Option to deactivate SEM for clearer visualization. Option to use global DF to reduce memory use"
   ],
   "id": "94954d9df65bb7e9",
   "outputs": [],
   "execution_count": null
  },
  {
   "metadata": {},
   "cell_type": "markdown",
   "source": "Similar calculation of difference between win and loss signal per session. Creates heatmap of the difference between win and loss signal across the epoch for all sessions. Red = win > loss, blue = win < loss ",
   "id": "d563be562225a42f"
  },
  {
   "metadata": {},
   "cell_type": "code",
   "source": "analyze_session_win_loss_difference_heatmap(\"JOA-M-0020\", comp_conf=True)",
   "id": "890d1302cd0aab89",
   "outputs": [],
   "execution_count": null
  },
  {
   "metadata": {},
   "cell_type": "markdown",
   "source": "Plot with subplots for each session. Photometry data splot into win/loss with corresponding choice history plots underneath. ",
   "id": "7b3fec6a712a94dd"
  },
  {
   "metadata": {},
   "cell_type": "code",
   "source": "plot_per_session_win_loss(\"JOA-M-0020\")",
   "id": "80e494e9257bd010",
   "outputs": [],
   "execution_count": null
  },
  {
   "metadata": {},
   "cell_type": "markdown",
   "source": "Divides all trials T0 into win and loss trials. Then, subdivision based on T-1, into win-->win, win-->loss, loss-->win, loss-->loss. Plots average photometry signal for T0 (effect of preceding win or loss) ",
   "id": "6ae2fdfd4bce7804"
  },
  {
   "metadata": {},
   "cell_type": "code",
   "source": "analyze_previous_outcome_effect(\"JOA-M-0020\")",
   "id": "10f69da9b8deef1f",
   "outputs": [],
   "execution_count": null
  },
  {
   "metadata": {},
   "cell_type": "markdown",
   "source": "Calculates and plots the % of trials that follow WSLS behavior. 50% expected for random choices",
   "id": "b36766789d6432ab"
  },
  {
   "metadata": {},
   "cell_type": "code",
   "source": "analyze_win_stay_lose_switch(\"JOA-M-0020\", df=full_df)",
   "id": "4581e5d6230e3907",
   "outputs": [],
   "execution_count": null
  },
  {
   "metadata": {},
   "cell_type": "markdown",
   "source": "Looks at last loss trials (T0 loss where T+1 is win). Then, divides these trials based on the number of losses in a row, either 1, 2, 3, 4, or >=5. Plots average photometry data for each category. Option to skipped missed trials and to only display 1 and 5+ loss categories",
   "id": "bf39ac5420304036"
  },
  {
   "metadata": {},
   "cell_type": "code",
   "source": "analyze_loss_streaks_before_win(\"JOA-M-0026\", skipped_missed=True, only_1_5=True)",
   "id": "eb62b3dd8a77a9f3",
   "outputs": [],
   "execution_count": null
  },
  {
   "metadata": {},
   "cell_type": "markdown",
   "source": [
    "Takes all loss trials, and rearranges them based on the average photometry signal for different time windows. Then, creates quartiles based on rearranges trials.\n",
    "Time windows: pre_cue (-0.75 to -0.25s), early_post (1-2s), late_post (3-5s). \n",
    "Calculates % of loss trials in each quartile that are followed by a switch in choice (L/R). \n",
    "Option to turn on/off plot_verification showing time window and sorted trials. "
   ],
   "id": "a89fba4b8beeeb39"
  },
  {
   "metadata": {},
   "cell_type": "code",
   "source": [
    "analyze_signal_quartiles_by_outcome(\"JOA-M-0022\", signal_window='pre_cue', plot_verification=False, condition= 'win')\n",
    "#see % of loss trials followed by switch in choice, for quartiles sorted based on photometry signal in different time windows. \n",
    "#Windows: pre_cue (-0.75 to -0.25), early_post (1-2s), late_post (3.5-4.5s)\n",
    "#either look at switch after loss trial or after win trial. "
   ],
   "id": "a33474c0373acf60",
   "outputs": [],
   "execution_count": null
  },
  {
   "metadata": {},
   "cell_type": "markdown",
   "source": "Calculate the general p(switch) following either win or loss trials\n",
   "id": "501135545663f1db"
  },
  {
   "metadata": {},
   "cell_type": "code",
   "source": "analyze_switch_probabilities(\"JOA-M-0024\")",
   "id": "74b89fe040afbef",
   "outputs": [],
   "execution_count": null
  },
  {
   "metadata": {},
   "cell_type": "markdown",
   "source": "Calculate the average p(switch) across each session based on moving average. Divides trials into quartiles based on average p(switch), then plots corresponding photometry signal. ",
   "id": "c0f3271c29d4948e"
  },
  {
   "metadata": {},
   "cell_type": "code",
   "source": "analyze_switch_probability_quartiles(\"JOA-M-0026\", win_loss=False)",
   "id": "8dad870f88bac25",
   "outputs": [],
   "execution_count": null
  },
  {
   "metadata": {},
   "cell_type": "code",
   "source": "analyze_normalized_quartile_effects(\"JOA-M-0022\")",
   "id": "893d926f57c5afc7",
   "outputs": [],
   "execution_count": null
  }
 ],
 "metadata": {
  "kernelspec": {
   "display_name": "Python 3",
   "language": "python",
   "name": "python3"
  },
  "language_info": {
   "codemirror_mode": {
    "name": "ipython",
    "version": 2
   },
   "file_extension": ".py",
   "mimetype": "text/x-python",
   "name": "python",
   "nbconvert_exporter": "python",
   "pygments_lexer": "ipython2",
   "version": "2.7.6"
  }
 },
 "nbformat": 4,
 "nbformat_minor": 5
}
