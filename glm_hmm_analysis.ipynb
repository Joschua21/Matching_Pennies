{
 "cells": [
  {
   "metadata": {},
   "cell_type": "code",
   "source": [
    "from photometry_analysis import load_filtered_behavior_data\n",
    "from testing_dopamine import session_date\n",
    "%load_ext autoreload\n",
    "%autoreload 2\n",
    "from glm_hmm_analysis import *"
   ],
   "id": "eb7eceb6233753e4",
   "outputs": [],
   "execution_count": null
  },
  {
   "metadata": {},
   "cell_type": "code",
   "source": "behavior_df = load_filtered_behavior_data(\"MatchingPennies\")",
   "id": "14047f1e9de6b681",
   "outputs": [],
   "execution_count": null
  },
  {
   "metadata": {},
   "cell_type": "code",
   "source": "plot_state_probabilities(\"JOA-M-0022\", session_date=None, behavior_df=behavior_df)",
   "id": "9e31011610e03462",
   "outputs": [],
   "execution_count": null
  },
  {
   "metadata": {},
   "cell_type": "code",
   "source": "analyze_behavioral_states(\"JOA-M-0026\", win_loss=True, behavior_df=behavior_df)",
   "id": "9540ecc44075e1cf",
   "outputs": [],
   "execution_count": null
  },
  {
   "metadata": {},
   "cell_type": "code",
   "source": "analyze_previous_outcome_effect_by_state(\"JOA-M-0026\", behavior_df=behavior_df)",
   "id": "a965ae66d2498be0",
   "outputs": [],
   "execution_count": null
  },
  {
   "metadata": {},
   "cell_type": "code",
   "source": "analyze_signal_quartiles_by_state(\"JOA-M-0026\", signal_window='late_post', condition='win', plot_verification=True, behavior_df=behavior_df)",
   "id": "42e6bb70317a1ccb",
   "outputs": [],
   "execution_count": null
  },
  {
   "metadata": {},
   "cell_type": "markdown",
   "source": [
    "Count consecutive loss streaks. \n",
    "This counts only consecutive loss streaks within a state. If the loss streak is not resolved in the state (no win in this state, but state shift), these loss streaks are NOT counted"
   ],
   "id": "77d72cd90aa096ff"
  },
  {
   "metadata": {},
   "cell_type": "code",
   "source": "analyze_loss_streaks_by_state(\"JOA-M-0025\", split_biased=False)",
   "id": "73d94904cd5a1d91",
   "outputs": [],
   "execution_count": null
  },
  {
   "metadata": {},
   "cell_type": "code",
   "source": "analyze_loss_streaks_by_state_photometry(\"JOA-M-0026\", only_1_3=True, behavior_df=behavior_df)",
   "id": "20ccb333ab33530b",
   "outputs": [],
   "execution_count": null
  },
  {
   "metadata": {},
   "cell_type": "code",
   "source": "analyze_state_transitions(\"JOA-M-0022\", window_size=30, min_stable_trials=2, split_bias=False)",
   "id": "9a53fb936bac5697",
   "outputs": [],
   "execution_count": null
  },
  {
   "metadata": {},
   "cell_type": "code",
   "source": "",
   "id": "34dab3d8ae49a5c6",
   "outputs": [],
   "execution_count": null
  }
 ],
 "metadata": {
  "kernelspec": {
   "display_name": "Python 3",
   "language": "python",
   "name": "python3"
  },
  "language_info": {
   "codemirror_mode": {
    "name": "ipython",
    "version": 2
   },
   "file_extension": ".py",
   "mimetype": "text/x-python",
   "name": "python",
   "nbconvert_exporter": "python",
   "pygments_lexer": "ipython2",
   "version": "2.7.6"
  }
 },
 "nbformat": 4,
 "nbformat_minor": 5
}
