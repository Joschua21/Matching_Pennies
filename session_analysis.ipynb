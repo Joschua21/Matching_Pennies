{
 "cells": [
  {
   "metadata": {},
   "cell_type": "markdown",
   "source": "# Matching Pennies Session Analysis\n",
   "id": "ab3c45945c85d0d3"
  },
  {
   "cell_type": "code",
   "id": "initial_id",
   "metadata": {
    "collapsed": true
   },
   "source": [
    "import matplotlib.pyplot as plt\n",
    "import seaborn as sns\n",
    "\n",
    "# Set plotting style\n",
    "plt.style.use('seaborn-v0_8-whitegrid')\n",
    "sns.set_context(\"notebook\", font_scale=1.2)\n",
    "\n",
    "# Import the analysis functions\n",
    "# Make sure the .py file is in the same directory as this notebook\n",
    "from session_analysis import *"
   ],
   "outputs": [],
   "execution_count": null
  },
  {
   "metadata": {},
   "cell_type": "markdown",
   "source": [
    "# Load and Filter Data\n",
    "Load data from .parquet file and filter columns where ignore is not = 0"
   ],
   "id": "7ea9aa8073b64ce2"
  },
  {
   "metadata": {},
   "cell_type": "code",
   "source": [
    "# Load the data\n",
    "data_path = 'Z:/delab/matchingpennies/matchingpennies_datatable.parquet'\n",
    "df = load_data(data_path)\n",
    "\n",
    "print(f\"Loaded data shape: {df.shape}\")\n",
    "print(\"\\nColumns in the dataset:\")\n",
    "print(df.columns.tolist())"
   ],
   "id": "c61320a00edc68d4",
   "outputs": [],
   "execution_count": null
  },
  {
   "metadata": {},
   "cell_type": "markdown",
   "source": "# Get available Subjects and Sessions",
   "id": "fdd6902ce5a9f776"
  },
  {
   "metadata": {},
   "cell_type": "code",
   "source": [
    "subjects = df['subjid'].unique()\n",
    "print(f\"Number of unique subjects: {len(subjects)}\")\n",
    "print(\"Sample subjects:\")\n",
    "print(subjects)"
   ],
   "id": "41449fce7e0dfca3",
   "outputs": [],
   "execution_count": null
  },
  {
   "metadata": {},
   "cell_type": "markdown",
   "source": "# Analyze specific Subjects and Sessions",
   "id": "3cc67c05e67fca96"
  },
  {
   "metadata": {},
   "cell_type": "code",
   "source": [
    "selected_subject = \"JOA-M-0010\"\n",
    "subject_sessions = df[df['subjid'] == selected_subject]['sessid'].unique()\n",
    "\n",
    "print(f\"Sessions for subject {selected_subject}:\")\n",
    "print(f\"Total number of sessions: {len(subject_sessions)}\")\n",
    "print(\"\\nSession IDs:\")\n",
    "print((subject_sessions)) "
   ],
   "id": "939c4b7ce6db3036",
   "outputs": [],
   "execution_count": null
  },
  {
   "metadata": {},
   "cell_type": "code",
   "source": [
    "subject_id = selected_subject\n",
    "session_id = 600.0\n",
    "#0013 sess 974\n",
    "print(f\"Analyzing subject {subject_id}, session {session_id}\")\n",
    "\n",
    "num_trials = len(df[(df['subjid'] == subject_id) & (df['sessid'] == session_id)])\n",
    "print(f\"Number of trials: {num_trials}\")"
   ],
   "id": "232f4958ea6a3561",
   "outputs": [],
   "execution_count": null
  },
  {
   "metadata": {},
   "cell_type": "markdown",
   "source": "## 1. Plot Choice History",
   "id": "5937fb9f907f031c"
  },
  {
   "metadata": {},
   "cell_type": "code",
   "source": [
    "# Plot choice history\n",
    "fig = plot_choice_history(df, subject_id, session_id)\n",
    "plt.show()\n",
    "plt.close(fig)"
   ],
   "id": "70b4b3b6c3e7cb5e",
   "outputs": [],
   "execution_count": null
  },
  {
   "metadata": {},
   "cell_type": "markdown",
   "source": [
    "## 2. Plot Reward Rate\n",
    "Either using default window_size (True) or 10% of Trial number (False)"
   ],
   "id": "75d4011a8a58fd94"
  },
  {
   "metadata": {},
   "cell_type": "code",
   "source": [
    "fig = plot_reward_rate(df, subject_id, session_id, use_window_size=False)\n",
    "plt.show()\n",
    "plt.close(fig)"
   ],
   "id": "4cc9628b4ea2b885",
   "outputs": [],
   "execution_count": null
  },
  {
   "metadata": {},
   "cell_type": "markdown",
   "source": "## 3. Plot Probability of Left Choice",
   "id": "1fc9e3f765c4c05"
  },
  {
   "metadata": {},
   "cell_type": "code",
   "source": [
    "fig = plot_prob_left(df, subject_id, session_id, use_window_size=False)\n",
    "plt.show()\n",
    "plt.close(fig)"
   ],
   "id": "3452b2a7f20f4e94",
   "outputs": [],
   "execution_count": null
  },
  {
   "metadata": {},
   "cell_type": "markdown",
   "source": "## 4. Plot Computer Prediction History",
   "id": "d14f813a5b4d8bc1"
  },
  {
   "metadata": {},
   "cell_type": "code",
   "source": [
    "fig = plot_prediction_history(df, subject_id, session_id)\n",
    "plt.show()\n",
    "plt.close(fig)"
   ],
   "id": "f63ab07fcc6c50bb",
   "outputs": [],
   "execution_count": null
  },
  {
   "metadata": {},
   "cell_type": "markdown",
   "source": "## 5. Plot Computer Confidence",
   "id": "c7919ea44bba435d"
  },
  {
   "metadata": {},
   "cell_type": "code",
   "source": [
    "fig = plot_computer_confidence(df, subject_id, session_id)\n",
    "plt.show()\n",
    "plt.close(fig)"
   ],
   "id": "82cf759badbaded",
   "outputs": [],
   "execution_count": null
  },
  {
   "metadata": {},
   "cell_type": "markdown",
   "source": "## 6. Analyze Choice Patterns",
   "id": "fbdd6af98a561ca1"
  },
  {
   "metadata": {},
   "cell_type": "code",
   "source": [
    "fig = analyze_patterns(df, subject_id, session_id)\n",
    "plt.show()\n",
    "plt.close(fig)"
   ],
   "id": "bf2684740e37bd7c",
   "outputs": [],
   "execution_count": null
  },
  {
   "metadata": {},
   "cell_type": "markdown",
   "source": "## Run All Analyses and Save Results",
   "id": "19e1db4b187db02d"
  },
  {
   "metadata": {},
   "cell_type": "code",
   "source": [
    "analyses = analyze_subject(df, subject_id, session_id, show_plots=False)\n",
    "for name, fig in analyses.items():\n",
    "    if fig:\n",
    "        plt.figure(fig.number)\n",
    "        plt.show()"
   ],
   "id": "bc01429b23e3c29a",
   "outputs": [],
   "execution_count": null
  },
  {
   "metadata": {},
   "cell_type": "markdown",
   "source": "## Pooled Analysis of Learning Parametrics across all Animals",
   "id": "970993eed4057eb5"
  },
  {
   "metadata": {},
   "cell_type": "code",
   "source": [
    "subject_ids = [\n",
    "    'JOA-M-0002', \n",
    "    'JOA-M-0003', \n",
    "    'JOA-M-0008', \n",
    "    'JOA-M-0009', \n",
    "    'JOA-M-0010', \n",
    "    'JOA-M-0013', \n",
    "    'JOA-M-0014', \n",
    "    'JOA-M-0015', \n",
    "    'JOA-M-0016'\n",
    "]\n",
    "#only include where \"protocol\" contains f\"matching_pennies\" .str.contains(\"MatchingPennies\")\n",
    "\n",
    "reward_fig = plot_group_reward_rates(df, subject_ids)\n",
    "plt.show()\n",
    "\n",
    "confidence_fig = plot_group_confidence(df, subject_ids)\n",
    "plt.show()"
   ],
   "id": "e819379c6d72bc10",
   "outputs": [],
   "execution_count": null
  }
 ],
 "metadata": {
  "kernelspec": {
   "display_name": "Python 3",
   "language": "python",
   "name": "python3"
  },
  "language_info": {
   "codemirror_mode": {
    "name": "ipython",
    "version": 2
   },
   "file_extension": ".py",
   "mimetype": "text/x-python",
   "name": "python",
   "nbconvert_exporter": "python",
   "pygments_lexer": "ipython2",
   "version": "2.7.6"
  }
 },
 "nbformat": 4,
 "nbformat_minor": 5
}
